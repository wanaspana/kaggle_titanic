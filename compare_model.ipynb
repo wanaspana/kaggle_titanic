{
 "cells": [
  {
   "cell_type": "code",
   "execution_count": 1,
   "id": "e6134573",
   "metadata": {},
   "outputs": [],
   "source": [
    "import pandas as pd\n",
    "from sklearn.model_selection import cross_validate, cross_val_score\n",
    "from sklearn.preprocessing import LabelEncoder\n",
    "from sklearn.linear_model import LogisticRegression\n",
    "from sklearn.svm import SVC\n",
    "from sklearn.ensemble import RandomForestClassifier\n",
    "\n",
    "# Define your models\n",
    "models = {\n",
    "    'Logistic Regression': LogisticRegression(max_iter=10000),\n",
    "    'Support Vector Machine': SVC(max_iter=1000),\n",
    "    'Random Forest': RandomForestClassifier()\n",
    "}"
   ]
  },
  {
   "cell_type": "code",
   "execution_count": 2,
   "id": "5d4f9819",
   "metadata": {},
   "outputs": [],
   "source": [
    "df_train = pd.read_csv(\"data/train.csv\", delimiter=\",\")\n",
    "df_test = pd.read_csv(\"data/test.csv\", delimiter=\",\")\n",
    "\n",
    "# Define your data (X and y)\n",
    "\n",
    "df_train['Embarked'] = df_train['Embarked'].fillna(df_train['Embarked'].mode()[0],)\n",
    "df_train['Age'] = df_train['Age'].fillna(df_train['Age'].median())\n",
    "df_test['Embarked'] = df_test['Embarked'].fillna(df_train['Embarked'].mode()[0],)\n",
    "df_test['Age'] = df_test['Age'].fillna(df_train['Age'].median())\n",
    "df_test['Fare'] = df_test['Fare'].fillna(df_train['Fare'].median())\n",
    "\n",
    "X = pd.get_dummies(df_train[['Pclass','Sex','Age','SibSp','Parch','Fare','Embarked']], columns=['Pclass','Sex', 'Embarked'], drop_first=False).astype(int)\n",
    "\n",
    "y = df_train['Survived']\n",
    "\n",
    "x_score = df_test[['Pclass','Sex','Age','SibSp','Parch','Fare','Embarked']]\n",
    "x_score_encoded = pd.get_dummies(x_score, columns=['Pclass','Sex', 'Embarked'], drop_first=True).astype(int)\n",
    "x_score_encoded = x_score_encoded.reindex(columns=X.columns, fill_value=0)"
   ]
  },
  {
   "cell_type": "code",
   "execution_count": 3,
   "id": "a808810f",
   "metadata": {},
   "outputs": [
    {
     "name": "stdout",
     "output_type": "stream",
     "text": [
      "Model: Logistic Regression\n",
      "test_accuracy: 0.793496955621116\n",
      "test_precision: 0.7498759369490852\n",
      "test_recall: 0.6957800511508953\n",
      "Model: Support Vector Machine\n",
      "test_accuracy: 0.6757328479065972\n",
      "test_precision: 0.6804159331745538\n",
      "test_recall: 0.2926257459505541\n",
      "Model: Random Forest\n",
      "test_accuracy: 0.802510827945515\n",
      "test_precision: 0.7546092312763305\n",
      "test_recall: 0.7220375106564365\n",
      "Model: Logistic Regression, Accuracy: 0.793496955621116\n",
      "Model: Support Vector Machine, Accuracy: 0.6757328479065972\n",
      "Model: Random Forest, Accuracy: 0.8036281463812692\n"
     ]
    }
   ],
   "source": [
    "# Use cross_validate to get multiple metrics (e.g., accuracy, precision, recall)\n",
    "results = {}\n",
    "for name, model in models.items():\n",
    "    cv_results = cross_validate(model, X, y, cv=5, scoring=['accuracy', 'precision', 'recall'])  # 5-fold cross-validation\n",
    "    results[name] = cv_results\n",
    "\n",
    "# Print the results\n",
    "for name, result in results.items():\n",
    "    print(f\"Model: {name}\")\n",
    "    for metric in ['test_accuracy', 'test_precision', 'test_recall']:\n",
    "        print(f\"{metric}: {result[metric].mean()}\")\n",
    "\n",
    "\n",
    "# Alternatively, use cross_val_score for a single metric (e.g., accuracy)\n",
    "for name, model in models.items():\n",
    "    scores = cross_val_score(model, X, y, cv=5)  # 5-fold cross-validation\n",
    "    print(f\"Model: {name}, Accuracy: {scores.mean()}\")"
   ]
  },
  {
   "cell_type": "code",
   "execution_count": 7,
   "id": "c648e8e6",
   "metadata": {},
   "outputs": [],
   "source": [
    "results = {}\n",
    "feature_importances = {}  \n",
    "\n",
    "for name, model in models.items():\n",
    "    cv_results = cross_validate(model, X, y, cv=5, scoring=['accuracy']) \n",
    "    results[name] = cv_results\n",
    "\n",
    "    # Fit the model on the whole dataset to get stable feature importances (outside cross-validation loop)\n",
    "    model.fit(X, y)  # Careful, potentially overfitting, good for demo only, ideally incorporate in the CV loop\n",
    "    y_pred = model.predict(x_score_encoded)\n",
    "    pd.Series(y_pred, index=df_test['PassengerId'], name='Survived').reset_index().to_csv(f\"pred_result/submission_{name}.csv\", index=False)\n",
    "\n",
    "    if hasattr(model, 'feature_importances_'): # check for feature importance attribute before accessing it!\n",
    "        feature_importances[name] = model.feature_importances_"
   ]
  },
  {
   "cell_type": "code",
   "execution_count": 8,
   "id": "ea168636",
   "metadata": {},
   "outputs": [
    {
     "name": "stdout",
     "output_type": "stream",
     "text": [
      "Model: Logistic Regression\n",
      "Accuracy: 0.793496955621116\n",
      "Model: Support Vector Machine\n",
      "Accuracy: 0.6757328479065972\n",
      "Model: Random Forest\n",
      "Accuracy: 0.8047454648170234\n",
      "  Age: 0.2817556044538948\n",
      "  SibSp: 0.04654906440299198\n",
      "  Parch: 0.04012398584601047\n",
      "  Fare: 0.19723755024180697\n",
      "  Pclass_1: 0.027081772509029406\n",
      "  Pclass_2: 0.01895786686779366\n",
      "  Pclass_3: 0.05571206113256901\n",
      "  Sex_female: 0.12501303585783685\n",
      "  Sex_male: 0.17343811455655891\n",
      "  Embarked_C: 0.011764138579695306\n",
      "  Embarked_Q: 0.00798406723552456\n",
      "  Embarked_S: 0.014382738316287952\n"
     ]
    }
   ],
   "source": [
    "for name, result in results.items():\n",
    "    print(f\"Model: {name}\")\n",
    "    print(f\"Accuracy: {result['test_accuracy'].mean()}\")\n",
    "\n",
    "    if name in feature_importances:\n",
    "        importances = feature_importances[name]\n",
    "        # Assuming X is a pandas DataFrame for easy feature name extraction\n",
    "        if isinstance(X, pd.DataFrame): # use feature names if available\n",
    "           feature_names = X.columns\n",
    "        else:\n",
    "            feature_names = [f'Feature {i}' for i in range(X.shape[1])]\n",
    "\n",
    "\n",
    "        for i in range(len(feature_names)):\n",
    "           print(f\"  {feature_names[i]}: {importances[i]}\")"
   ]
  }
 ],
 "metadata": {
  "kernelspec": {
   "display_name": "Python 3",
   "language": "python",
   "name": "python3"
  },
  "language_info": {
   "codemirror_mode": {
    "name": "ipython",
    "version": 3
   },
   "file_extension": ".py",
   "mimetype": "text/x-python",
   "name": "python",
   "nbconvert_exporter": "python",
   "pygments_lexer": "ipython3",
   "version": "3.12.2"
  }
 },
 "nbformat": 4,
 "nbformat_minor": 5
}
