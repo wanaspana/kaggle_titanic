{
 "cells": [
  {
   "cell_type": "code",
   "execution_count": 1,
   "metadata": {},
   "outputs": [],
   "source": [
    "import pandas as pd"
   ]
  },
  {
   "cell_type": "code",
   "execution_count": 2,
   "metadata": {},
   "outputs": [],
   "source": [
    "df_train = pd.read_csv(\"data/train.csv\", delimiter=\",\")\n",
    "df_test = pd.read_csv(\"data/test.csv\", delimiter=\",\")"
   ]
  },
  {
   "cell_type": "code",
   "execution_count": 3,
   "metadata": {},
   "outputs": [
    {
     "data": {
      "text/plain": [
       "PassengerId      0\n",
       "Survived         0\n",
       "Pclass           0\n",
       "Name             0\n",
       "Sex              0\n",
       "Age            177\n",
       "SibSp            0\n",
       "Parch            0\n",
       "Ticket           0\n",
       "Fare             0\n",
       "Cabin          687\n",
       "Embarked         2\n",
       "dtype: int64"
      ]
     },
     "execution_count": 3,
     "metadata": {},
     "output_type": "execute_result"
    }
   ],
   "source": [
    "df_train.isnull().sum()"
   ]
  },
  {
   "cell_type": "code",
   "execution_count": 4,
   "metadata": {},
   "outputs": [
    {
     "data": {
      "text/plain": [
       "PassengerId      0\n",
       "Pclass           0\n",
       "Name             0\n",
       "Sex              0\n",
       "Age             86\n",
       "SibSp            0\n",
       "Parch            0\n",
       "Ticket           0\n",
       "Fare             1\n",
       "Cabin          327\n",
       "Embarked         0\n",
       "dtype: int64"
      ]
     },
     "execution_count": 4,
     "metadata": {},
     "output_type": "execute_result"
    }
   ],
   "source": [
    "df_test.isnull().sum()"
   ]
  },
  {
   "cell_type": "code",
   "execution_count": 5,
   "metadata": {},
   "outputs": [],
   "source": [
    "df_train['Embarked'] = df_train['Embarked'].fillna(df_train['Embarked'].mode()[0],)\n",
    "df_train['Age'] = df_train['Age'].fillna(df_train['Age'].median())\n",
    "df_test['Embarked'] = df_test['Embarked'].fillna(df_train['Embarked'].mode()[0],)\n",
    "df_test['Age'] = df_test['Age'].fillna(df_train['Age'].median())\n",
    "df_test['Fare'] = df_test['Fare'].fillna(df_train['Fare'].median())"
   ]
  },
  {
   "cell_type": "code",
   "execution_count": 6,
   "metadata": {},
   "outputs": [],
   "source": [
    "x_train_wName = df_train[['Pclass','Name','Sex','Age','SibSp','Parch','Ticket','Fare','Cabin','Embarked']]\n",
    "X = df_train[['Pclass','Sex','Age','SibSp','Parch','Fare','Embarked']]\n",
    "\n",
    "y = df_train['Survived']"
   ]
  },
  {
   "cell_type": "code",
   "execution_count": 7,
   "metadata": {},
   "outputs": [
    {
     "data": {
      "application/vnd.microsoft.datawrangler.viewer.v0+json": {
       "columns": [
        {
         "name": "index",
         "rawType": "int64",
         "type": "integer"
        },
        {
         "name": "Pclass",
         "rawType": "int64",
         "type": "integer"
        },
        {
         "name": "Sex",
         "rawType": "object",
         "type": "string"
        },
        {
         "name": "Age",
         "rawType": "float64",
         "type": "float"
        },
        {
         "name": "SibSp",
         "rawType": "int64",
         "type": "integer"
        },
        {
         "name": "Parch",
         "rawType": "int64",
         "type": "integer"
        },
        {
         "name": "Fare",
         "rawType": "float64",
         "type": "float"
        },
        {
         "name": "Embarked",
         "rawType": "object",
         "type": "string"
        }
       ],
       "conversionMethod": "pd.DataFrame",
       "ref": "60d41348-6555-46fe-ba50-a9a76ce20d61",
       "rows": [
        [
         "0",
         "3",
         "male",
         "22.0",
         "1",
         "0",
         "7.25",
         "S"
        ],
        [
         "1",
         "1",
         "female",
         "38.0",
         "1",
         "0",
         "71.2833",
         "C"
        ],
        [
         "2",
         "3",
         "female",
         "26.0",
         "0",
         "0",
         "7.925",
         "S"
        ],
        [
         "3",
         "1",
         "female",
         "35.0",
         "1",
         "0",
         "53.1",
         "S"
        ],
        [
         "4",
         "3",
         "male",
         "35.0",
         "0",
         "0",
         "8.05",
         "S"
        ],
        [
         "5",
         "3",
         "male",
         "28.0",
         "0",
         "0",
         "8.4583",
         "Q"
        ],
        [
         "6",
         "1",
         "male",
         "54.0",
         "0",
         "0",
         "51.8625",
         "S"
        ],
        [
         "7",
         "3",
         "male",
         "2.0",
         "3",
         "1",
         "21.075",
         "S"
        ],
        [
         "8",
         "3",
         "female",
         "27.0",
         "0",
         "2",
         "11.1333",
         "S"
        ],
        [
         "9",
         "2",
         "female",
         "14.0",
         "1",
         "0",
         "30.0708",
         "C"
        ],
        [
         "10",
         "3",
         "female",
         "4.0",
         "1",
         "1",
         "16.7",
         "S"
        ],
        [
         "11",
         "1",
         "female",
         "58.0",
         "0",
         "0",
         "26.55",
         "S"
        ],
        [
         "12",
         "3",
         "male",
         "20.0",
         "0",
         "0",
         "8.05",
         "S"
        ],
        [
         "13",
         "3",
         "male",
         "39.0",
         "1",
         "5",
         "31.275",
         "S"
        ],
        [
         "14",
         "3",
         "female",
         "14.0",
         "0",
         "0",
         "7.8542",
         "S"
        ],
        [
         "15",
         "2",
         "female",
         "55.0",
         "0",
         "0",
         "16.0",
         "S"
        ],
        [
         "16",
         "3",
         "male",
         "2.0",
         "4",
         "1",
         "29.125",
         "Q"
        ],
        [
         "17",
         "2",
         "male",
         "28.0",
         "0",
         "0",
         "13.0",
         "S"
        ],
        [
         "18",
         "3",
         "female",
         "31.0",
         "1",
         "0",
         "18.0",
         "S"
        ],
        [
         "19",
         "3",
         "female",
         "28.0",
         "0",
         "0",
         "7.225",
         "C"
        ],
        [
         "20",
         "2",
         "male",
         "35.0",
         "0",
         "0",
         "26.0",
         "S"
        ],
        [
         "21",
         "2",
         "male",
         "34.0",
         "0",
         "0",
         "13.0",
         "S"
        ],
        [
         "22",
         "3",
         "female",
         "15.0",
         "0",
         "0",
         "8.0292",
         "Q"
        ],
        [
         "23",
         "1",
         "male",
         "28.0",
         "0",
         "0",
         "35.5",
         "S"
        ],
        [
         "24",
         "3",
         "female",
         "8.0",
         "3",
         "1",
         "21.075",
         "S"
        ],
        [
         "25",
         "3",
         "female",
         "38.0",
         "1",
         "5",
         "31.3875",
         "S"
        ],
        [
         "26",
         "3",
         "male",
         "28.0",
         "0",
         "0",
         "7.225",
         "C"
        ],
        [
         "27",
         "1",
         "male",
         "19.0",
         "3",
         "2",
         "263.0",
         "S"
        ],
        [
         "28",
         "3",
         "female",
         "28.0",
         "0",
         "0",
         "7.8792",
         "Q"
        ],
        [
         "29",
         "3",
         "male",
         "28.0",
         "0",
         "0",
         "7.8958",
         "S"
        ],
        [
         "30",
         "1",
         "male",
         "40.0",
         "0",
         "0",
         "27.7208",
         "C"
        ],
        [
         "31",
         "1",
         "female",
         "28.0",
         "1",
         "0",
         "146.5208",
         "C"
        ],
        [
         "32",
         "3",
         "female",
         "28.0",
         "0",
         "0",
         "7.75",
         "Q"
        ],
        [
         "33",
         "2",
         "male",
         "66.0",
         "0",
         "0",
         "10.5",
         "S"
        ],
        [
         "34",
         "1",
         "male",
         "28.0",
         "1",
         "0",
         "82.1708",
         "C"
        ],
        [
         "35",
         "1",
         "male",
         "42.0",
         "1",
         "0",
         "52.0",
         "S"
        ],
        [
         "36",
         "3",
         "male",
         "28.0",
         "0",
         "0",
         "7.2292",
         "C"
        ],
        [
         "37",
         "3",
         "male",
         "21.0",
         "0",
         "0",
         "8.05",
         "S"
        ],
        [
         "38",
         "3",
         "female",
         "18.0",
         "2",
         "0",
         "18.0",
         "S"
        ],
        [
         "39",
         "3",
         "female",
         "14.0",
         "1",
         "0",
         "11.2417",
         "C"
        ],
        [
         "40",
         "3",
         "female",
         "40.0",
         "1",
         "0",
         "9.475",
         "S"
        ],
        [
         "41",
         "2",
         "female",
         "27.0",
         "1",
         "0",
         "21.0",
         "S"
        ],
        [
         "42",
         "3",
         "male",
         "28.0",
         "0",
         "0",
         "7.8958",
         "C"
        ],
        [
         "43",
         "2",
         "female",
         "3.0",
         "1",
         "2",
         "41.5792",
         "C"
        ],
        [
         "44",
         "3",
         "female",
         "19.0",
         "0",
         "0",
         "7.8792",
         "Q"
        ],
        [
         "45",
         "3",
         "male",
         "28.0",
         "0",
         "0",
         "8.05",
         "S"
        ],
        [
         "46",
         "3",
         "male",
         "28.0",
         "1",
         "0",
         "15.5",
         "Q"
        ],
        [
         "47",
         "3",
         "female",
         "28.0",
         "0",
         "0",
         "7.75",
         "Q"
        ],
        [
         "48",
         "3",
         "male",
         "28.0",
         "2",
         "0",
         "21.6792",
         "C"
        ],
        [
         "49",
         "3",
         "female",
         "18.0",
         "1",
         "0",
         "17.8",
         "S"
        ]
       ],
       "shape": {
        "columns": 7,
        "rows": 891
       }
      },
      "text/html": [
       "<div>\n",
       "<style scoped>\n",
       "    .dataframe tbody tr th:only-of-type {\n",
       "        vertical-align: middle;\n",
       "    }\n",
       "\n",
       "    .dataframe tbody tr th {\n",
       "        vertical-align: top;\n",
       "    }\n",
       "\n",
       "    .dataframe thead th {\n",
       "        text-align: right;\n",
       "    }\n",
       "</style>\n",
       "<table border=\"1\" class=\"dataframe\">\n",
       "  <thead>\n",
       "    <tr style=\"text-align: right;\">\n",
       "      <th></th>\n",
       "      <th>Pclass</th>\n",
       "      <th>Sex</th>\n",
       "      <th>Age</th>\n",
       "      <th>SibSp</th>\n",
       "      <th>Parch</th>\n",
       "      <th>Fare</th>\n",
       "      <th>Embarked</th>\n",
       "    </tr>\n",
       "  </thead>\n",
       "  <tbody>\n",
       "    <tr>\n",
       "      <th>0</th>\n",
       "      <td>3</td>\n",
       "      <td>male</td>\n",
       "      <td>22.0</td>\n",
       "      <td>1</td>\n",
       "      <td>0</td>\n",
       "      <td>7.2500</td>\n",
       "      <td>S</td>\n",
       "    </tr>\n",
       "    <tr>\n",
       "      <th>1</th>\n",
       "      <td>1</td>\n",
       "      <td>female</td>\n",
       "      <td>38.0</td>\n",
       "      <td>1</td>\n",
       "      <td>0</td>\n",
       "      <td>71.2833</td>\n",
       "      <td>C</td>\n",
       "    </tr>\n",
       "    <tr>\n",
       "      <th>2</th>\n",
       "      <td>3</td>\n",
       "      <td>female</td>\n",
       "      <td>26.0</td>\n",
       "      <td>0</td>\n",
       "      <td>0</td>\n",
       "      <td>7.9250</td>\n",
       "      <td>S</td>\n",
       "    </tr>\n",
       "    <tr>\n",
       "      <th>3</th>\n",
       "      <td>1</td>\n",
       "      <td>female</td>\n",
       "      <td>35.0</td>\n",
       "      <td>1</td>\n",
       "      <td>0</td>\n",
       "      <td>53.1000</td>\n",
       "      <td>S</td>\n",
       "    </tr>\n",
       "    <tr>\n",
       "      <th>4</th>\n",
       "      <td>3</td>\n",
       "      <td>male</td>\n",
       "      <td>35.0</td>\n",
       "      <td>0</td>\n",
       "      <td>0</td>\n",
       "      <td>8.0500</td>\n",
       "      <td>S</td>\n",
       "    </tr>\n",
       "    <tr>\n",
       "      <th>...</th>\n",
       "      <td>...</td>\n",
       "      <td>...</td>\n",
       "      <td>...</td>\n",
       "      <td>...</td>\n",
       "      <td>...</td>\n",
       "      <td>...</td>\n",
       "      <td>...</td>\n",
       "    </tr>\n",
       "    <tr>\n",
       "      <th>886</th>\n",
       "      <td>2</td>\n",
       "      <td>male</td>\n",
       "      <td>27.0</td>\n",
       "      <td>0</td>\n",
       "      <td>0</td>\n",
       "      <td>13.0000</td>\n",
       "      <td>S</td>\n",
       "    </tr>\n",
       "    <tr>\n",
       "      <th>887</th>\n",
       "      <td>1</td>\n",
       "      <td>female</td>\n",
       "      <td>19.0</td>\n",
       "      <td>0</td>\n",
       "      <td>0</td>\n",
       "      <td>30.0000</td>\n",
       "      <td>S</td>\n",
       "    </tr>\n",
       "    <tr>\n",
       "      <th>888</th>\n",
       "      <td>3</td>\n",
       "      <td>female</td>\n",
       "      <td>28.0</td>\n",
       "      <td>1</td>\n",
       "      <td>2</td>\n",
       "      <td>23.4500</td>\n",
       "      <td>S</td>\n",
       "    </tr>\n",
       "    <tr>\n",
       "      <th>889</th>\n",
       "      <td>1</td>\n",
       "      <td>male</td>\n",
       "      <td>26.0</td>\n",
       "      <td>0</td>\n",
       "      <td>0</td>\n",
       "      <td>30.0000</td>\n",
       "      <td>C</td>\n",
       "    </tr>\n",
       "    <tr>\n",
       "      <th>890</th>\n",
       "      <td>3</td>\n",
       "      <td>male</td>\n",
       "      <td>32.0</td>\n",
       "      <td>0</td>\n",
       "      <td>0</td>\n",
       "      <td>7.7500</td>\n",
       "      <td>Q</td>\n",
       "    </tr>\n",
       "  </tbody>\n",
       "</table>\n",
       "<p>891 rows × 7 columns</p>\n",
       "</div>"
      ],
      "text/plain": [
       "     Pclass     Sex   Age  SibSp  Parch     Fare Embarked\n",
       "0         3    male  22.0      1      0   7.2500        S\n",
       "1         1  female  38.0      1      0  71.2833        C\n",
       "2         3  female  26.0      0      0   7.9250        S\n",
       "3         1  female  35.0      1      0  53.1000        S\n",
       "4         3    male  35.0      0      0   8.0500        S\n",
       "..      ...     ...   ...    ...    ...      ...      ...\n",
       "886       2    male  27.0      0      0  13.0000        S\n",
       "887       1  female  19.0      0      0  30.0000        S\n",
       "888       3  female  28.0      1      2  23.4500        S\n",
       "889       1    male  26.0      0      0  30.0000        C\n",
       "890       3    male  32.0      0      0   7.7500        Q\n",
       "\n",
       "[891 rows x 7 columns]"
      ]
     },
     "execution_count": 7,
     "metadata": {},
     "output_type": "execute_result"
    }
   ],
   "source": [
    "X"
   ]
  },
  {
   "cell_type": "code",
   "execution_count": 8,
   "metadata": {},
   "outputs": [],
   "source": [
    "from sklearn.linear_model import LogisticRegression\n",
    "from sklearn.model_selection import train_test_split, StratifiedKFold, cross_val_score, cross_validate\n",
    "from sklearn.metrics import accuracy_score, classification_report, confusion_matrix\n",
    "from sklearn.preprocessing import StandardScaler\n",
    "from sklearn.preprocessing import LabelEncoder"
   ]
  },
  {
   "cell_type": "code",
   "execution_count": 9,
   "metadata": {},
   "outputs": [],
   "source": [
    "x_train_encoded = pd.get_dummies(X, columns=['Pclass','Sex', 'Embarked'], drop_first=True).astype(int)\n",
    "# X = X.drop(['Pclass','Sex', 'Embarked'], axis=1)\n",
    "# X = pd.concat([X, x_train_encoded], axis=1)"
   ]
  },
  {
   "cell_type": "code",
   "execution_count": 10,
   "metadata": {},
   "outputs": [
    {
     "name": "stdout",
     "output_type": "stream",
     "text": [
      "X_train_encoded:\n",
      "      Age  SibSp  Parch  Fare  Pclass_2  Pclass_3  Sex_male  Embarked_Q  \\\n",
      "0     22      1      0     7         0         1         1           0   \n",
      "1     38      1      0    71         0         0         0           0   \n",
      "2     26      0      0     7         0         1         0           0   \n",
      "3     35      1      0    53         0         0         0           0   \n",
      "4     35      0      0     8         0         1         1           0   \n",
      "..   ...    ...    ...   ...       ...       ...       ...         ...   \n",
      "886   27      0      0    13         1         0         1           0   \n",
      "887   19      0      0    30         0         0         0           0   \n",
      "888   28      1      2    23         0         1         0           0   \n",
      "889   26      0      0    30         0         0         1           0   \n",
      "890   32      0      0     7         0         1         1           1   \n",
      "\n",
      "     Embarked_S  \n",
      "0             1  \n",
      "1             0  \n",
      "2             1  \n",
      "3             1  \n",
      "4             1  \n",
      "..          ...  \n",
      "886           1  \n",
      "887           1  \n",
      "888           1  \n",
      "889           0  \n",
      "890           0  \n",
      "\n",
      "[891 rows x 9 columns]\n"
     ]
    }
   ],
   "source": [
    "print(\"X_train_encoded:\\n\", x_train_encoded)"
   ]
  },
  {
   "cell_type": "code",
   "execution_count": null,
   "metadata": {},
   "outputs": [
    {
     "name": "stdout",
     "output_type": "stream",
     "text": [
      "Stratified Cross-validation scores: [0.73542601 0.70192308 0.75221239]\n"
     ]
    }
   ],
   "source": [
    "scaler = StandardScaler() # Choose an appropriate scaler\n",
    "numerical_cols = x_train_encoded.select_dtypes(include=['number']).columns # Select numerical features for scaling\n",
    "x_train_encoded[numerical_cols] = scaler.fit_transform(x_train_encoded[numerical_cols])\n",
    "\n",
    "# Logistic Regression with L1 regularization\n",
    "model = LogisticRegression(penalty='elasticnet', solver='saga', C=1.0, l1_ratio=0.5, random_state = 42)  # Adjust C (inverse of regularization strength)\n",
    "                                                     # liblinear is a good solver for L1 penalty\n",
    "\n",
    "# Train the model\n",
    "model.fit(x_train_encoded, y)\n",
    "skf = StratifiedKFold(n_splits=3, shuffle=True, random_state=42)\n",
    "scores_stratified = cross_val_score(model, x_train_encoded, y, cv=skf, scoring='f1') # 'f1' is often a good choice for imbalanced data\n",
    "print(\"Stratified Cross-validation scores:\", scores_stratified)"
   ]
  },
  {
   "cell_type": "code",
   "execution_count": 13,
   "metadata": {},
   "outputs": [],
   "source": [
    "x_score = df_test[['Pclass','Sex','Age','SibSp','Parch','Fare','Embarked']]\n",
    "\n",
    "\n",
    "x_score_encoded = pd.get_dummies(x_score, columns=['Pclass','Sex', 'Embarked'], drop_first=True).astype(int)\n",
    "\n",
    "# Align columns: add missing columns in x_score with NaN\n",
    "x_score_encoded = x_score_encoded.reindex(columns=x_train_encoded.columns, fill_value=0)\n",
    "\n",
    "x_score_encoded[numerical_cols] = scaler.transform(x_score_encoded[numerical_cols]) # Scale test data using the same scaler\n",
    "\n",
    "# x_score = x_score.drop(['Pclass','Sex', 'Embarked'], axis=1)\n",
    "# x_score = pd.concat([x_score, x_score_encoded], axis=1)"
   ]
  },
  {
   "cell_type": "code",
   "execution_count": null,
   "metadata": {},
   "outputs": [],
   "source": [
    "y_pred = model.predict(x_score_encoded)"
   ]
  },
  {
   "cell_type": "code",
   "execution_count": 15,
   "metadata": {},
   "outputs": [
    {
     "data": {
      "text/plain": [
       "array([0, 0, 0, 0, 0, 0, 0, 0, 0, 0, 0, 0, 0, 0, 0, 0, 0, 0, 0, 0, 0, 0,\n",
       "       0, 0, 1, 0, 0, 0, 0, 0, 0, 0, 0, 0, 0, 0, 0, 0, 0, 0, 0, 0, 0, 0,\n",
       "       0, 0, 0, 0, 0, 0, 0, 0, 0, 1, 0, 0, 0, 0, 0, 1, 0, 0, 0, 0, 1, 0,\n",
       "       0, 0, 0, 1, 0, 0, 0, 0, 1, 1, 0, 0, 0, 0, 0, 0, 0, 0, 0, 0, 0, 0,\n",
       "       0, 0, 0, 0, 0, 0, 0, 0, 0, 0, 0, 0, 0, 0, 0, 0, 0, 0, 0, 0, 0, 0,\n",
       "       0, 0, 0, 0, 0, 0, 0, 0, 0, 0, 0, 0, 0, 0, 0, 0, 0, 0, 0, 0, 0, 0,\n",
       "       0, 0, 0, 0, 0, 0, 0, 0, 0, 1, 0, 0, 0, 0, 0, 0, 0, 0, 0, 0, 0, 0,\n",
       "       0, 0, 1, 0, 0, 0, 0, 0, 0, 0, 0, 0, 0, 0, 0, 0, 0, 0, 0, 0, 0, 0,\n",
       "       0, 0, 0, 0, 0, 0, 0, 0, 1, 0, 0, 0, 0, 0, 0, 0, 0, 0, 0, 0, 1, 0,\n",
       "       0, 0, 0, 0, 1, 0, 0, 0, 0, 0, 0, 0, 0, 0, 0, 0, 0, 0, 0, 0, 1, 0,\n",
       "       0, 0, 0, 0, 0, 0, 0, 0, 0, 0, 0, 0, 0, 0, 0, 0, 0, 0, 0, 0, 0, 0,\n",
       "       0, 0, 0, 0, 0, 0, 0, 0, 1, 0, 1, 0, 0, 0, 0, 0, 0, 0, 0, 0, 0, 0,\n",
       "       0, 0, 0, 0, 0, 0, 0, 0, 1, 0, 0, 0, 0, 0, 0, 0, 0, 0, 0, 0, 0, 0,\n",
       "       0, 0, 0, 0, 0, 0, 0, 0, 0, 0, 1, 0, 0, 0, 0, 0, 0, 0, 0, 0, 1, 0,\n",
       "       0, 0, 0, 0, 0, 0, 0, 0, 0, 0, 0, 0, 0, 0, 0, 0, 1, 0, 0, 0, 0, 0,\n",
       "       0, 0, 0, 0, 0, 0, 0, 0, 0, 0, 0, 0, 0, 1, 0, 0, 0, 0, 0, 0, 0, 0,\n",
       "       0, 0, 1, 0, 0, 0, 0, 0, 0, 0, 0, 0, 0, 0, 0, 0, 0, 0, 0, 1, 0, 0,\n",
       "       0, 1, 0, 0, 0, 0, 0, 0, 0, 0, 0, 0, 0, 0, 0, 0, 0, 0, 0, 0, 0, 0,\n",
       "       0, 0, 0, 0, 1, 0, 0, 0, 0, 0, 0, 0, 0, 0, 0, 0, 0, 0, 0, 0, 0, 0])"
      ]
     },
     "execution_count": 15,
     "metadata": {},
     "output_type": "execute_result"
    }
   ],
   "source": [
    "y_pred"
   ]
  },
  {
   "cell_type": "code",
   "execution_count": 16,
   "metadata": {},
   "outputs": [],
   "source": [
    "submission = pd.Series(y_pred, index=df_test['PassengerId'], name='Survived').reset_index()"
   ]
  },
  {
   "cell_type": "code",
   "execution_count": 17,
   "metadata": {},
   "outputs": [],
   "source": [
    "submission.to_csv('pred_result/submission.csv', index=False)"
   ]
  },
  {
   "cell_type": "markdown",
   "metadata": {},
   "source": []
  },
  {
   "cell_type": "code",
   "execution_count": null,
   "metadata": {},
   "outputs": [],
   "source": [
    "submission"
   ]
  }
 ],
 "metadata": {
  "kernelspec": {
   "display_name": "Python 3",
   "language": "python",
   "name": "python3"
  },
  "language_info": {
   "codemirror_mode": {
    "name": "ipython",
    "version": 3
   },
   "file_extension": ".py",
   "mimetype": "text/x-python",
   "name": "python",
   "nbconvert_exporter": "python",
   "pygments_lexer": "ipython3",
   "version": "3.12.2"
  },
  "orig_nbformat": 4
 },
 "nbformat": 4,
 "nbformat_minor": 2
}
